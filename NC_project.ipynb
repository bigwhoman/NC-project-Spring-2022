{
 "cells": [
  {
   "cell_type": "markdown",
   "metadata": {},
   "source": [
    "<div align=center>\n",
    "<font size=6>\n",
    "<font/>\n",
    "<br>\n",
    "<font color=#0dfc00>\n",
    "Sharif University of Technology\n",
    "</font>\n",
    "<p></p>\n",
    "<font color=#8ce300>\n",
    "Numerical Calculations\n",
    "</font>\n",
    "<p></p>\n",
    "<font color=#f2cf00>\n",
    "Dr. Fatemeh Baharifard\n",
    "</font>\n",
    "<br/>\n",
    "<br/>\n",
    "<font color=ffcc00>\n",
    "Spring 2022\n",
    "</font>\n",
    "</div>\n",
    "\n",
    "<hr/>\n",
    "\t\t<div align=center>\n",
    "\t\t    <font color=ff9c00 size=6>\n",
    "\t\t\t    <br />\n",
    "Final Project\n",
    "            \t<br/>\n",
    "\t\t\t</font>\n",
    "    <br/>\n",
    "  <font size=4, color=#CC6600>\n",
    "    Authors:\n",
    "    <br>\n",
    "    MohammadMahdi Abootorabi\n",
    "    <br>\n",
    "    Mohammadreza Daviran\n",
    "    <br>\n",
    "    Kasra Amani\n",
    "    <br>\n",
    "    Bahar Asadi\n",
    "\n",
    "  </font>\n",
    "    <br/>\n",
    "<font size=5, color=red>\n",
    "    <br/><br/>\n",
    "Deadline: Tir 22nd\n",
    "</font>\n",
    "                <br/>\n",
    "    </div>"
   ]
  },
  {
   "cell_type": "markdown",
   "metadata": {},
   "source": [
    "This is the **Final Project of Numerical Calculations**, Spring-2022.\n",
    "\n",
    "\n",
    "In this project you need to complete this notebook with full regard to the demands of the questions.\n",
    "\n",
    "\n",
    "There are 8 Questions each containing a Theoretical and a Practical part. These 8 questions have 330 points in total which equals 3.3 out of 21.3 from your final grade.\n",
    "\n",
    "\n",
    "Note that this project has an additional score which does not count on the formal 20 score grading. By solving all the questions you may gain 0.3 additional score in the final grading. \n",
    "\n",
    "\n",
    "*Good Luck!*"
   ]
  },
  {
   "cell_type": "markdown",
   "metadata": {
    "id": "O3A1ZidagV7w"
   },
   "source": [
    "# Q1:\n",
    "*Author: MohammadMahdi Abootorabi*\n",
    "\n",
    "**30 Points**\n",
    "\n",
    "---\n",
    "**Theoretical:**\n",
    "<br>Let $a_i$ ($1 \\le i \\le n$) be a positive number. Prove that\n",
    "\n",
    "a): $e(\\sum_{i}^{n}{a_i}) \\le \\sum_{i}^{n}{e(a_i)} $\n",
    "<br>\n",
    "let $a_i$ be the real value and $\\bar{a_i}$ to be our approximation\n",
    "$|a_1 - \\bar{a_1}| \\le e_\\bar{a_1}, |a_1 - \\bar{a_2}| \\le e_\\bar{a_2} , ... , |a_n - \\bar{a_n}| \\le e_\\bar{a_n} \\rightarrow \\\\ \\bar{a_i} - e_\\bar{a_i} \\le a_i \\le \\bar{a_i} + e_\\bar{a_i} \\rightarrow \\sum_{i}^{n}{\\bar{a_i}} - \\sum_{i}^{n}{e_\\bar{a_i}} \\le \\sum_{i}^{n}{a_i} \\le \\sum_{i}^{n}{\\bar{a_i}} + \\sum_{i}^{n}{e_\\bar{a_i}} \\rightarrow \\\\ |\\sum_{i}^{n}{a_i} - \\sum_{i}^{n}{\\bar{a_i}}| \\le \\sum_{i}^{n}{e_\\bar{a_i}} \\rightarrow e(\\sum_{i}^{n}{a_i}) \\le \\sum_{i}^{n}{e(a_i)}$\n",
    "\n",
    "b): $\\delta(\\sum_{i}^{n}{a_i}) \\le max\\{\\delta(a_1),...,\\delta(a_n)\\} \\\\$\n",
    "$\\delta(\\sum_{i}^{n}{a_i}) \\le \\frac{e(\\sum_{i}^{n}{a_i})}{\\sum_{i}^{n}{a_i}} \\xrightarrow[]{section (a)} \\le \\frac{\\sum_{i}^{n}{e(a_i)})}{\\sum_{i}^{n}{a_i}}   =$$\\frac{a_1}{\\sum_{i}^{n}{a_i}} * \\frac{e(a_1)}{a_1} + ... + \\frac{a_n}{\\sum_{i}^{n}{a_i}} * \\frac{e(a_n)}{a_n} = \\frac{a_1}{\\sum_{i}^{n}{a_i}} * \\delta(a_1) + ... + \\frac{a_n}{\\sum_{i}^{n}{a_i}} * \\delta(a_n)$ $ \\le \n",
    "\\frac{a_1}{\\sum_{i}^{n}{a_i}} * max(\\delta(a_1,...,a_n)) + ... + \\frac{a_n}{\\sum_{i}^{n}{a_i}} * max(\\delta(a_1,...,a_n)) $$=\\frac{\\sum_{i}^{n}{a_i}}{\\sum_{i}^{n}{a_i}} * max(\\delta(a_1,...,a_n)) \\le max(\\delta(a_1,...,a_n))   $\n"
   ]
  },
  {
   "cell_type": "markdown",
   "metadata": {
    "id": "TqMcEivZgX9t"
   },
   "source": [
    "Write your answers here:"
   ]
  },
  {
   "cell_type": "markdown",
   "metadata": {
    "id": "8PnFBzwSuKIL"
   },
   "source": [
    "\n",
    " **Practical**:\n",
    " <br>Below you are presented with the Num class; complete the class code in a way so that the class has the following properties:\n",
    " <br>a) The value of the Number has no more than 2 decimal places.\n",
    " <br>b) The relative error and absolute error of the Number are correct.\n",
    " <br>c) All arithmetic operations work correctly with the Number class and result in another Number with a correct upper bound on the errors (implementation must account for the error propagation on +, -, *, /)\n",
    " <br>Example:\n",
    " ```\n",
    "  a = Num(1.23456)\n",
    "  b = Num(5.67891)\n",
    "  c = a + b\n",
    "  print(a.value)\n",
    "  print(a.abs_err)\n",
    "  print(a.rel_err)\n",
    "  print(c.value)\n",
    " ```\n",
    " > 1.23 <br>\n",
    " > 0.00456 <br>\n",
    " > 0.00369 <br>\n",
    " > 6.9 <br>"
   ]
  },
  {
   "cell_type": "code",
   "execution_count": null,
   "metadata": {
    "id": "6MVfzKxVjW29"
   },
   "outputs": [],
   "source": [
    "import math\n",
    "def truncate(number, decimals=0):\n",
    "    if not isinstance(decimals, int):\n",
    "        raise TypeError(\"decimal places must be an integer.\")\n",
    "    elif decimals < 0:\n",
    "        raise ValueError(\"decimal places has to be 0 or more.\")\n",
    "    elif decimals == 0:\n",
    "        return math.trunc(number)\n",
    "\n",
    "    factor = 10.0 ** decimals\n",
    "    return math.trunc(number * factor) / factor\n",
    "\n",
    "\n",
    "class Num():\n",
    "    abs_err = 0\n",
    "    rel_err = 0\n",
    "\n",
    "    def __init__(self, value):\n",
    "        self.value = truncate(value, 2)\n",
    "        self.abs_err = round(abs(value - self.value), 5)\n",
    "        self.rel_err = round(self.abs_err / value, 5)\n",
    "\n",
    "    def __add__(self, other):\n",
    "        k = Num(self.value + other.value)\n",
    "        k.abs_err = self.abs_err + other.abs_err + k.abs_err\n",
    "        k.rel_err = (self.value * self.rel_err + other.value * other.rel_err) / (self.value + other.value)\n",
    "        return k\n",
    "\n",
    "    def __sub__(self, other):\n",
    "        k = Num(self.value - other.value)\n",
    "        k.abs_err = self.abs_err + other.abs_err + k.abs_err\n",
    "        k.rel_err = (self.value * self.rel_err + other.value * other.rel_err) / (self.value - other.value)\n",
    "        return k\n",
    "\n",
    "    def __mul__(self, other):\n",
    "        k = Num(self.value * other.value)\n",
    "        k.abs_err = self.abs_err * abs(other.value) + other.abs_err * abs(self.value) + k.abs_err\n",
    "        k.rel_err = self.rel_err + other.rel_err + k.rel_err\n",
    "        return k\n",
    "\n",
    "    def __truediv__(self, other):\n",
    "        k = Num(self.value / other.value)\n",
    "        k.abs_err = self.abs_err / abs(other.value) + other.abs_err * abs(self.value) / (other.value ** 2) + k.abs_err\n",
    "        k.rel_err = self.rel_err + other.rel_err + k.rel_err\n",
    "        return k\n",
    "\n",
    "a = Num(1.23456)\n",
    "b = Num(5.67891)\n",
    "c = a + b\n",
    "s = b/a\n",
    "k = s+a\n",
    "print(a.value)\n",
    "print(a.abs_err)\n",
    "print(a.rel_err)\n",
    "print(c.value)\n",
    "print(s.value)\n",
    "print(s.abs_err)\n",
    "print(s.rel_err)\n",
    "print(k.value)\n",
    "print(k.abs_err)\n",
    "print(k.rel_err)"
   ]
  },
  {
   "cell_type": "markdown",
   "metadata": {
    "id": "F_Nf3o2Cg37z"
   },
   "source": [
    "# Q2:\n",
    "*Author: MohammadMahdi Abootorabi*\n",
    "\n",
    "**25 Points**\n",
    "\n",
    "---\n"
   ]
  },
  {
   "cell_type": "markdown",
   "metadata": {
    "id": "cWp_e9Zau6m-"
   },
   "source": [
    "\n",
    "\n",
    " ***Practical***:<br>\n",
    " Write a program that implements the Generalized Newton–Raphson Method for the two variable version. Take $F(x,y)$ and $G(x,y)$ as input. Assume that there always is a solution for the inputs. Output must be an approximate intersection point.<br>\n",
    "  <br>Example input (first one is $F$, second one is $G$):<br>\n",
    "     ```\n",
    "x * x + y * y - 4\n",
    "x * y -  1\n",
    "     ```\n",
    "     <br>\n",
    "     <br>\n",
    "\n",
    "**Hint: see last slides of lecture two for more information.**"
   ]
  },
  {
   "cell_type": "code",
   "execution_count": null,
   "metadata": {},
   "outputs": [],
   "source": [
    "from sympy import *\n",
    "import numpy\n",
    "\n",
    "x, y = symbols('x y')\n",
    "g = sympify(input(\"enter function g with respect to x and y: \"))\n",
    "f = sympify(input(\"enter function f with respect to x and y: \"))\n",
    "\n",
    "D = diff(f, x) * diff(g, y) - diff(f, y) * diff(g, x)\n",
    "D1 = -1*f * diff(g, y) + g * diff(f, y)\n",
    "D2 = diff(f, x) * (-1*g) + f * diff(g, x)\n",
    "Dd1 = D1 / D\n",
    "Dd2 = D2 / D\n",
    "f = lambdify((x, y), f, 'numpy')\n",
    "g = lambdify((x, y), g, 'numpy')\n",
    "D1 = lambdify((x, y), D1, 'numpy')\n",
    "D2 = lambdify((x, y), D2, 'numpy')\n",
    "D = lambdify((x, y), D, 'numpy')\n",
    "Dd1 = lambdify((x, y), Dd1, 'numpy')\n",
    "Dd2 = lambdify((x, y), Dd2, 'numpy')\n",
    "\n",
    "x0 = 2\n",
    "y0 = 1\n",
    "x0_next = 2\n",
    "y0_next = 1\n",
    "while True:\n",
    "    x0 = x0_next\n",
    "    y0 = y0_next\n",
    "    x0_next = x0 + Dd1(x0, y0)\n",
    "    y0_next = y0 + Dd2(x0, y0)\n",
    "    if abs(x0_next-x0) < 0.01 and abs(y0_next-y0) < 0.01:\n",
    "        break\n",
    "print(f\"final x0 = {x0_next} and y0 = {y0_next}\")\n",
    "print(f(x0_next,y0_next),g(x0_next,y0_next))\n"
   ]
  },
  {
   "cell_type": "markdown",
   "metadata": {
    "id": "F_Nf3o2Cg37z"
   },
   "source": [
    "# Q3:\n",
    "*Author: MohammadMahdi Abootorabi*\n",
    "\n",
    "**35 Points**\n",
    "\n",
    "---\n"
   ]
  },
  {
   "cell_type": "markdown",
   "metadata": {
    "id": "cWp_e9Zau6m-"
   },
   "source": [
    "\n",
    "\n",
    " ***Practical***:<br>\n",
    " Write a program that takes a real **polynomial** string as an input and tries to calculates a root for it. We use different methods to calculate it. <br>\n",
    "  a) Implement the Bisection method to find a root (iterate until $|f(x_n)| \\le 10^{-5}$ or 1000 steps).<br>\n",
    "  b) Implement the Secant method to find a root (iterate until $|x_n - x_{n-1}| \\le 10^{-5}$ or 1000 steps).<br>\n",
    "  c) Implement the Newton-Raphson method to find a root (iterate until $|f(x)| \\le 10^{-5}$ or 1000 steps).<br>\n",
    " You must implement the Horner method for evaluation of the polynomials (both $f$ and $f'$).<br>\n",
    "\n",
    " **input format**:<br>\n",
    " $a_nx$^$(n)$ $\\pm$ $a_{n-1}x$^$(n-1)$ $\\pm$ ... $\\pm$ $a_0$<br>\n",
    " example: 5x^4 - 2x^2 + 1x^1 - 8\n",
    " \n",
    " **make sure to parse the input correctly. Check convergence conditions in methods that need it.**  "
   ]
  },
  {
   "cell_type": "code",
   "execution_count": 61,
   "metadata": {},
   "outputs": [
    {
     "name": "stdout",
     "output_type": "stream",
     "text": [
      "enter function: 5x^4 - 2x^2 + 1x^1 - 8\n",
      "1.1769300699234009\n",
      "1.1769299584760957\n",
      "1.176929958476322\n"
     ]
    }
   ],
   "source": [
    "from sympy import *\n",
    "import numpy\n",
    "import re\n",
    "import random\n",
    "#because of the random function we could get any kinds of interval so if the \n",
    "#function has more than one root any of the methods could get a different root\n",
    "#so if you see two different numbers it means that the method got the one of the functions \n",
    "#other roots\n",
    "def find_coefficients(func):\n",
    "    all_coeffs = (re.findall(r'([-+]*[\\d]+)(x*\\^([\\d]+))*', func))\n",
    "    if len(all_coeffs) == 1:\n",
    "        return [float(all_coeffs[0][0])]\n",
    "    max_power = int(all_coeffs[0][2])\n",
    "    co = []\n",
    "    for i in range(max_power, 0, -1):\n",
    "        k = False\n",
    "        for j in all_coeffs:\n",
    "            if j[2] != '' and int(j[2]) == i:\n",
    "                co.append(float(j[0]))\n",
    "                k = True\n",
    "        if not k:\n",
    "            co.append(0)\n",
    "    co.append(float(all_coeffs[-1][0]))\n",
    "    return co\n",
    "\n",
    "\n",
    "def evaluate(x, func):\n",
    "    a = find_coefficients(func)\n",
    "    result = 0\n",
    "    for i in range(0, len(a)):\n",
    "        result = a[i] + (x * result)\n",
    "    return result\n",
    "\n",
    "\n",
    "def bisection(a, b, func, tolerance):\n",
    "    tries = 0\n",
    "    while True:\n",
    "        tries += 1\n",
    "        if evaluate(a, func) > 0:\n",
    "            (b, a) = (a, b)\n",
    "        x = (a + b) / 2\n",
    "        Fx = evaluate(x, func)\n",
    "        if abs(Fx) < tolerance or tries > 1000:\n",
    "            return x\n",
    "        else:\n",
    "            if Fx < 0:\n",
    "                a = x\n",
    "            else:\n",
    "                b = x\n",
    "\n",
    "\n",
    "def secant(x_0, x_1, func, tolerance):\n",
    "    n = 0\n",
    "    tries = 0\n",
    "    while True:\n",
    "        tries += 1\n",
    "        n += 1\n",
    "        if (abs(x_0 - x_1)) < tolerance or tries > 1000:\n",
    "            return x_1\n",
    "        else:\n",
    "            next_x = (x_0*evaluate(x_1,func)-x_1*evaluate(x_0,func))/ (evaluate(x_1, func) - evaluate(x_0, func))\n",
    "            x_0 = x_1\n",
    "            x_1 = next_x\n",
    "\n",
    "\n",
    "def find_convergence(func, x):\n",
    "    list1 = list(func)\n",
    "    for i in range(len(list1)):\n",
    "        if list1[i] == 'x':\n",
    "            list1[i] = '*x'\n",
    "    func = ''.join(list1)\n",
    "    second_derivative = diff(diff(func, Symbol('x')), Symbol('x'))\n",
    "    first_derivative = diff(func, Symbol('x'))\n",
    "    second_derivative = str(second_derivative).replace('*x**', 'x^').replace('*x', 'x^1').replace(' ', '')\n",
    "    first_derivative = str(first_derivative).replace('*x**', 'x^').replace('*x', 'x^1').replace(' ', '')\n",
    "    func = str(func).replace('*x**', 'x^').replace('*x', 'x^1').replace(' ', '')\n",
    "    return abs((evaluate(x, func) * evaluate(x, second_derivative)) / (evaluate(x, first_derivative) ** 2))\n",
    "\n",
    "\n",
    "def newton_raphson(x, func, tolerance):\n",
    "    tries = 1\n",
    "    does_converge = find_convergence(func, x)\n",
    "    if does_converge < 1:\n",
    "        der_func = find_der(func)\n",
    "        if der_func == 0:\n",
    "            return 0\n",
    "        while True:\n",
    "            tries += 1\n",
    "            next_x = x - evaluate(x, func) / evaluate(x, der_func)\n",
    "            if abs(next_x - x) < tolerance or tries > 1000:\n",
    "                return next_x\n",
    "            x = next_x\n",
    "    else:\n",
    "        return \"does not converge!!\"\n",
    "\n",
    "\n",
    "def find_der(func):\n",
    "    list1 = list(func)\n",
    "    for i in range(len(list1)):\n",
    "        if list1[i] == 'x':\n",
    "            list1[i] = '*x'\n",
    "    func = ''.join(list1)\n",
    "    return str(diff(func, Symbol('x'))).replace('*x**', 'x^').replace('*x', 'x^1').replace(' ', '')\n",
    "\n",
    "\n",
    "function = input(\"enter function: \")\n",
    "function = function.replace(\" \", \"\")\n",
    "x_0 = random.randint(-10, 0)\n",
    "x_1 = random.randint(0, 10)\n",
    "while evaluate(x_1, function) * evaluate(x_0, function) > 0:\n",
    "    x_0 = random.randint(-10, 0)\n",
    "    x_1 = random.randint(0, 10)\n",
    "print(bisection(x_0, x_1, function, 10 ** -5))\n",
    "print(secant(0, 2, function, 10 ** -5))\n",
    "while find_convergence(function, x_1) >= 1:\n",
    "    x_1 = random.randint(-10, 10)\n",
    "print(newton_raphson(x_1, function, 10 ** -5))"
   ]
  },
  {
   "cell_type": "markdown",
   "metadata": {},
   "source": [
    "# Q4:\n",
    "\n",
    "*Author: Kasra Amani*\n",
    "\n",
    "**35 Points**\n",
    "\n",
    "---\n",
    "\n",
    "\n",
    "**Theoretical:**<br>\n",
    "The modified simpson's method was introduced in the 4th chapter of the course. Briefly explain in what ways this method is superior to its regular siblings and also, what are the downsides?\n"
   ]
  },
  {
   "cell_type": "markdown",
   "metadata": {},
   "source": [
    "**Answer goes here**\n",
    "<p>\n",
    "    In the other simpson methods like 1/3 or 3/8 we had some condition on the number of steps for example the number of steps needed to be taken in 1/3 method was to be even but in the modified(custom) simpson method we could have any number of steps and this is the superiority of this method but the downside is that we need to do more computations and change the formula whenever needed"
   ]
  },
  {
   "cell_type": "markdown",
   "metadata": {},
   "source": [
    "**Practical:**\n",
    "## A\n",
    "You might already be familiar with the scipy library. One of the many useful tools in this package is scipy.integrate.\n",
    "Using the **quad** method which takes a **general function** as its first arguement, calculate the integrations given below (studying the scipy documentation is strongly recommended).\n",
    "$$ \\int_{-1}^{1} e^x cos(x) \\,dx$$\n",
    "$$ \\int_{1}^{3} x^6+x^4-x^2+sin(2x) \\,dx$$\n",
    "$$ \\int_{-2}^{2} \\frac{3x^2}{e^x-arcsin(x)} \\,dx$$\n",
    "## B\n",
    "Implement the Gauss-Legendre method with decent accuracy from the ground up (no scipy modules are allowed). Your implementation must take a python function as an input arguement and also the interval boundaries and return the integration result. It is guaranteed that the input boundary is in the domain of that function and your implementation does not need to account for such errors.\n",
    "Use this code of yours on the very same functions introduced in section A and compare the results with what you got from the scipy integration module.\n",
    "Note that your implementation might be tested with other integrals."
   ]
  },
  {
   "cell_type": "code",
   "execution_count": null,
   "metadata": {},
   "outputs": [],
   "source": [
    "import numpy as np\n",
    "from scipy import integrate\n",
    "\n",
    "func1 = lambda x: exp(x) * cos(x)\n",
    "func2 = lambda x: x ** 6 + x ** 4 - x ** 2 + sin(2 * x)\n",
    "func3 = lambda x: (3 * x ** 2) / (exp(x) - np.arcsin(x))\n",
    "integral1 = integrate.quad(func1, -1, 1)[0]\n",
    "integral2 = integrate.quad(func2, 1, 3)[0]\n",
    "integral3 = integrate.quad(func3, -1/2, 1/2)[0]\n",
    "\n",
    "print(integral1)\n",
    "print(integral2)\n",
    "print(integral3)"
   ]
  },
  {
   "cell_type": "code",
   "execution_count": null,
   "metadata": {},
   "outputs": [],
   "source": [
    "import numpy as np\n",
    "from scipy import integrate\n",
    "\n",
    "def guass_legendre_acc3(func, a, b, n):\n",
    "    points = [0, 0.774597, -0.774597]\n",
    "    weights = [8 / 9, 5 / 9, 5 / 9]\n",
    "    integral = 0\n",
    "    for c in points:\n",
    "        integral += weights[points.index(c)] * func((b - a) / 2 * c + (b + a) / 2)\n",
    "    integral *= (b - a) / 2\n",
    "    return integral\n",
    "\n",
    "\n",
    "x = Symbol('x')\n",
    "integral_function = input(\"enter a function with respect to x: \")\n",
    "integral_func = lambdify(x, integral_function, 'numpy')\n",
    "a, b = map(float, input(\"enter the limits of integration: \").split())\n",
    "print(f\"integral of {integral_function} = \", guass_legendre_acc3(integral_func, a, b, 3))\n",
    "\n",
    "#and now to compare with part A integrals ::\n",
    "#uncomment the code bellow to see the results::\n",
    "\n",
    "# func1 = lambda x: exp(x) * cos(x)\n",
    "# func2 = lambda x: x ** 6 + x ** 4 - x ** 2 + sin(2 * x)\n",
    "# func3 = lambda x: (3 * x ** 2) / (exp(x) - np.arcsin(x))\n",
    "# integral1 = integrate.quad(func1, -1, 1)[0]\n",
    "# integral2 = integrate.quad(func2, 1, 3)[0]\n",
    "# integral3 = integrate.quad(func3, -1/2, 1/2)[0]\n",
    "\n",
    "# print(integral1)\n",
    "# print(integral2)\n",
    "# print(integral3)\n",
    "\n",
    "# print(\"guass legendre 3 points: \", guass_legendre_acc3(func1, -1, 1, 3)\n",
    "#       , \"--- real integral by scipy: \", integral1)\n",
    "# print(\"guass legendre 3 points: \", guass_legendre_acc3(func2, 1, 3, 3)\n",
    "#       , \"--- real integral by scipy: \", integral2)\n",
    "# print(\"guass legendre 3 points: \", guass_legendre_acc3(func3, -2, 2, 3)\n",
    "#       , \"--- real integral by scipy: \", integral3)"
   ]
  },
  {
   "cell_type": "markdown",
   "metadata": {},
   "source": [
    "# Q5:\n",
    "\n",
    "*Author: Kasra Amani*\n",
    "\n",
    "**35 Points**\n",
    "\n",
    "---\n",
    "\n",
    "\n",
    "**Theoretical:**<br>\n",
    "Explain in a paragraph or two, what are the embeded Runge-Kutta methods? How do they improve upon the initial RK algorithm and what are the possible downsides?\n"
   ]
  },
  {
   "cell_type": "markdown",
   "metadata": {},
   "source": [
    "**Answer goes here**\n",
    "<p>\n",
    "    The embedded methods are designed to produce an estimate of the local truncation error of a single Runge–Kutta step, and as result, allow to control the error with adaptive stepsize.Heun-Euler and Felberg are some of these methods.\n",
    "<p>The major advantage of these methods is that for they are independent of the equation to be solved and therefor are very general but the downside is that they dont have the implicit Runge-Kutta methods efficiency thus they consume more memory and computation time.\n",
    "    "
   ]
  },
  {
   "cell_type": "markdown",
   "metadata": {},
   "source": [
    "**Practical:**\n",
    "Given a 2nd order linear differential equation of following form\n",
    " $$y^{''}(x) + ay^{'}(\\alpha_0 x + \\alpha_1) + by(\\beta_0 x + \\beta_1) = c$$\n",
    " , $x_0$ as initial point, $h$ as interval length, $y^{'}(x_0)$ and $y(x_0)$, compute $y(x_0 + h)$ using the Runge-Kutta-Fehlberg method (aka RKF45).\n",
    "\n",
    " All inputs are given in console and the equation parameters are given in the following format:\n",
    " ```\n",
    " a alpha0 alpha1 b beta0 beta1 c\n",
    " ```\n",
    " Note that your code will be manually checked to see if you have implemented the algorithm correctly or not. For further information on the RKF45 read [this article](https://maths.cnam.fr/IMG/pdf/RungeKuttaFehlbergProof.pdf)."
   ]
  },
  {
   "cell_type": "code",
   "execution_count": null,
   "metadata": {},
   "outputs": [],
   "source": [
    "def runge_kutta_fehlberg(f, g, x0, y0, z0, h, step_num):\n",
    "    x = x0\n",
    "    y = y0\n",
    "    z = z0\n",
    "    for i in range(step_num):\n",
    "        kf1 = h * f(x, y, z)\n",
    "        kg1 = h * g(x, y, z)\n",
    "        kf2 = h * f(x + h / 4, y + kf1 / 4, z + kg1 / 4)\n",
    "        kg2 = h * g(x + h / 4, y + kf1 / 4, z + kg1 / 4)\n",
    "        kf3 = h * f(x + 3 / 8 * h, y + 3 / 32 * kf1 + 9 / 32 * kf2, z + 3 / 32 * kg1 + 9 / 32 * kg2)\n",
    "        kg3 = h * g(x + 3 / 8 * h, y + 3 / 32 * kf1 + 9 / 32 * kf2, z + 3 / 32 * kg1 + 9 / 32 * kg2)\n",
    "        kf4 = h * f(x + 12 / 13 * h, y + 1932 / 2197 * kf1 - 7200 / 2197 * kf2 + 7296 / 2197 * kf3,\n",
    "                    z + 1932 / 2197 * kg1 - 7200 / 2197 * kg2 + 7296 / 2197 * kg3)\n",
    "        kg4 = h * g(x + 12 / 13 * h, y + 1932 / 2197 * kf1 - 7200 / 2197 * kf2 + 7296 / 2197 * kf3,\n",
    "                    z + 1932 / 2197 * kg1 - 7200 / 2197 * kg2 + 7296 / 2197 * kg3)\n",
    "        kf5 = h * f(x + h, y + 439 / 216 * kf1 - 8 * kf2 + 3680 / 513 * kf3 - 845 / 4104 * kf4,\n",
    "                    z + 439 / 216 * kg1 - 8 * kg2 + 3680 / 513 * kg3 - 845 / 4104 * kg4)\n",
    "        kg5 = h * g(x + h, y + 439 / 216 * kf1 - 8 * kf2 + 3680 / 513 * kf3 - 845 / 4104 * kf4,\n",
    "                    z + 439 / 216 * kg1 - 8 * kg2 + 3680 / 513 * kg3 - 845 / 4104 * kg4)\n",
    "        kf6 = h * f(x + h / 2, y + -8 / 27 * kf1 + 2 * kf2 - 3544 / 2565 * kf3 + 1859 / 4104 * kf4 - 11 / 40 * kf5,\n",
    "                    z + -8 / 27 * kg1 + 2 * kg2 - 3544 / 2565 * kg3 + 1859 / 4104 * kg4 - 11 / 40 * kg5)\n",
    "        kg6 = h * g(x + h / 2, y + -8 / 27 * kf1 + 2 * kf2 - 3544 / 2565 * kf3 + 1859 / 4104 * kf4 - 11 / 40 * kf5,\n",
    "                    z + -8 / 27 * kg1 + 2 * kg2 - 3544 / 2565 * kg3 + 1859 / 4104 * kg4 - 11 / 40 * kg5)\n",
    "        x += h\n",
    "        y += 16 / 135 * kf1 + 6656 / 12825 * kf3 + 28561 / 56430 * kf4 - 9 / 50 * kf5 + 2 / 55 * kf6\n",
    "        z += 16 / 135 * kg1 + 6656 / 12825 * kg3 + 28561 / 56430 * kg4 - 9 / 50 * kg5 + 2 / 55 * kg6\n",
    "    return x, y, z\n",
    "\n",
    "\n",
    "a, b, c = map(float,\n",
    "              input(\"enter the coefficients of the differential equation: \").split())\n",
    "h, x0, y0, z0 = map(float, input(\"enter the step h, initial values of x,y and y' in order: \").split())\n",
    "f = lambda x, y, z: z\n",
    "g = lambda x, y, z: -a * z - b * y + c\n",
    "print(f\"y({x0+h}) = \",runge_kutta_fehlberg(f, g, x0, y0, z0, h, 1)[1])"
   ]
  },
  {
   "cell_type": "markdown",
   "metadata": {},
   "source": [
    "**Answer goes here**"
   ]
  },
  {
   "cell_type": "markdown",
   "metadata": {},
   "source": [
    "# Q6:\n",
    "\n",
    "*Author: Mohammadreza Daviran*\n",
    "\n",
    "**35 Points**\n",
    "\n",
    "---\n",
    "\n",
    "\n",
    "**Theoretical:**\n",
    "<p>There are some other applications of numerical analysis which we haven't discussed in the course, but are widely used in practice. One of them is function optimization (minimization & maximization).\n",
    "<br>\n",
    "In general, in this question, we examine optimization problems for two different types of functions, namely convex and non-convex functions. Finding the root and minimizing or maximizing these two types of functions are done differently, which we will learn more about later on.\n",
    "<br>\n",
    "There are generally two ways to check the convexity of a function:\n",
    "<ul>\n",
    "<li>\n",
    "Draw the function's diagram;\n",
    "</li>\n",
    "<li>\n",
    "Perform convex optimization with two starting positions and obtain the different minima.\n",
    "</li>\n",
    "</ul>\n",
    "\n",
    "Explain these two methods and discuss how they can be used to detect convexity of functions.\n",
    "</p>\n"
   ]
  },
  {
   "cell_type": "markdown",
   "metadata": {},
   "source": [
    "Write your answers here:\n",
    "<p>\n",
    "1)in the first method we use the diagram and make use of the definition of the context: if we choose any two different points on the function, the line that we draw between them should always be on top of the function\n",
    "\n",
    "2)in the second method we should use this property of convex functions that if we choose an interval and find the local minimas in that interval , they all should be the same so if we have two different minimas then the function is non-convex\n",
    "</p>"
   ]
  },
  {
   "cell_type": "markdown",
   "metadata": {},
   "source": [
    "\n",
    " **Practical**:\n",
    "For the following functions, you are required to determine convexity using the two convexity methods mentioned above.\n",
    "\n",
    "1) $sin(x) - x^2$ <br>\n",
    "2) $sin(x) + cos(x)$<br>\n",
    "3) $x^4 + x^3 + x + 2$<br>\n",
    "4) $x^2 - x^4 + 2$\n",
    "\n"
   ]
  },
  {
   "cell_type": "code",
   "execution_count": 10,
   "metadata": {},
   "outputs": [
    {
     "data": {
      "image/png": "[encoded data removed]",
      "text/plain": [
       "<Figure size 432x288 with 1 Axes>"
      ]
     },
     "metadata": {
      "needs_background": "light"
     },
     "output_type": "display_data"
    },
    {
     "data": {
      "image/png": "[encoded data removed]",
      "text/plain": [
       "<Figure size 432x288 with 1 Axes>"
      ]
     },
     "metadata": {
      "needs_background": "light"
     },
     "output_type": "display_data"
    },
    {
     "data": {
      "image/png": "[encoded data removed]",
      "text/plain": [
       "<Figure size 432x288 with 1 Axes>"
      ]
     },
     "metadata": {
      "needs_background": "light"
     },
     "output_type": "display_data"
    },
    {
     "data": {
      "image/png": "[encoded data removed]",
      "text/plain": [
       "<Figure size 432x288 with 1 Axes>"
      ]
     },
     "metadata": {
      "needs_background": "light"
     },
     "output_type": "display_data"
    }
   ],
   "source": [
    "# Check if the functions above are convex or not by plotting them.\n",
    "import matplotlib.pyplot as plt\n",
    "import numpy as np\n",
    "import math\n",
    "import scipy\n",
    "from sympy import *\n",
    "\n",
    "def plot_func(func, func_name):\n",
    "    x = np.linspace(-5, 5, 20)\n",
    "    fig = plt.figure()\n",
    "    ax = fig.add_subplot(1, 1, 1)\n",
    "    ax.spines['left'].set_position('center')\n",
    "    ax.spines['bottom'].set_position('center')\n",
    "    ax.spines['right'].set_color('none')\n",
    "    ax.spines['top'].set_color('none')\n",
    "    ax.xaxis.set_ticks_position('bottom')\n",
    "    ax.yaxis.set_ticks_position('left')\n",
    "    plt.plot(x, func(x), color='red', label=func_name)\n",
    "    plt.legend(loc='upper left')\n",
    "    plt.show()\n",
    "\n",
    "\n",
    "def functionalize(func):\n",
    "    return lambdify(Symbol('x'), func, 'numpy')\n",
    "\n",
    "\n",
    "func1 = \"sin(x) - x**2\"\n",
    "func2 = \"sin(x)+cos(x)\"\n",
    "func3 = \"x**4 + x**3 + x + 2\"\n",
    "func4 = \"x**2 - x**4 + 2\"\n",
    "\n",
    "func1a, func2a, func3a, func4a = map(functionalize, [func1, func2, func3, func4])\n",
    "plot_func(func1a, func1)\n",
    "plot_func(func2a, func2)\n",
    "plot_func(func3a, func3)\n",
    "plot_func(func4a, func4)\n"
   ]
  },
  {
   "cell_type": "code",
   "execution_count": null,
   "metadata": {},
   "outputs": [],
   "source": [
    "# Check if the functions above are convex or not by using convex optimization.\n",
    "from scipy.optimize import minimize,minimize_scalar\n",
    "from sympy import *\n",
    "import numpy as np\n",
    "\n",
    "def functionalize(func):\n",
    "    return lambdify(Symbol('x'), func, 'numpy')\n",
    "\n",
    "\n",
    "func1 = \"sin(x) - x**2\"\n",
    "func2 = \"sin(x)+cos(x)\"\n",
    "func3 = \"x**4 + x**3 + x + 2\"\n",
    "func4 = \"x**2 - x**4 + 2\"\n",
    "\n",
    "func1a, func2a, func3a, func4a = map(functionalize, [func1, func2, func3, func4])\n",
    "\n",
    "def is_func_convex(function):\n",
    "    flag = True\n",
    "    for i in range(1000):\n",
    "        lower_bound1 = random.randint(-50, -1)\n",
    "        upper_bound1 = random.randint(0, 50)\n",
    "        bounds = [(lower_bound1, upper_bound1)]\n",
    "        random_init = np.array([1])\n",
    "        res = minimize(function, x0=random_init, bounds=bounds)\n",
    "        res1 = round(res.x[0], 3)\n",
    "\n",
    "        lower_bound2 = random.randint(-100, lower_bound1)\n",
    "        upper_bound2 = random.randint(upper_bound1, 100)\n",
    "        bounds = [(lower_bound2, upper_bound2)]\n",
    "        res = minimize(function, x0=random_init, bounds=bounds)\n",
    "        res2 = round(res.x[0], 3)\n",
    "        if res1 != res2:\n",
    "            flag = False\n",
    "\n",
    "    return flag\n",
    "\n",
    "\n",
    "print(f\"is {func1} convex =\", is_func_convex(func1a))\n",
    "print(f\"is {func2} convex =\", is_func_convex(func2a))\n",
    "print(f\"is {func3} convex =\", is_func_convex(func3a))\n",
    "print(f\"is {func4} convex =\", is_func_convex(func4a))"
   ]
  },
  {
   "cell_type": "markdown",
   "metadata": {},
   "source": [
    "<ul>\n",
    "<li>\n",
    "Which functions are convex and which are non-convex?\n",
    " </li>\n",
    "    only the third function(x^4 + x^3 + x + 2) is convex and others\n",
    "    are non-convex\n",
    "  <li>\n",
    "What does each of the outputs of the minimize function mean?\n",
    " </li>\n",
    "    the method minimize return a result which consists of the solution array,success, a Boolean indicating if the optimizer successfully terminated and a message which explains the termination reason\n",
    "    the minimize function gives the minimum x in given interval so if we give an interval say (-2,2) and a bigger inter interval\n",
    "    containig the smaller interval like (-5,5), if the outputs are the same, it means in that interval the minimum is the same and we don't have two minimas but if they are not then it means that we have two different minimas and convex functions have at most one minima\n",
    "  <li>\n",
    "If you have another analysis, you can explain here.\n",
    " </li>\n",
    " </ul>\n",
    "    <h4>answer: as said above if we give that intervals to all the functions the results are as following :\n",
    "    sin(x) - x**2       : -2 and -5 meaning that we have two different points thus the function is not convex(approved as seen in the graph)\n",
    "    sin(x)+cos(x)       : -2 and -2.35 meaning that we have two different points thus the function is not convex(approved as seen in the graph) \n",
    "    x**4 + x**3 + x + 2 : -5 and 0 meaning that we have two different points thus the function is not convex(approved as seen in the graph)\n",
    "    x**2 - x**4 + 2     :  -1 and -1 => we have same points so the function is convex\n",
    "    </h4>\n",
    "    </font>\n",
    "</div>"
   ]
  },
  {
   "cell_type": "markdown",
   "metadata": {},
   "source": [
    "---\n",
    "\n",
    "\n",
    "**Theoretical:**\n",
    "<p>Using the basin-hopping method, non-convex functions can be optimized. In this section, do your own research about how this algorithm works and explain it briefly and explicitly.\n",
    "</p>\n"
   ]
  },
  {
   "cell_type": "markdown",
   "metadata": {},
   "source": [
    "Write your answer here: \n",
    "<p>\n",
    "Basin-hopping is a two-phase method that combines a global stepping algorithm with local minimization at each step, it uses iteration on the normal local minimizers and and each iteration(with wanted step) converges to the right answer"
   ]
  },
  {
   "cell_type": "markdown",
   "metadata": {},
   "source": [
    "  In the previous section, you were given a number of functions and used two methods to check whether they were convex or not. In this section you should perform the following tasks using the basin-hopping method:\n",
    "  <ul>\n",
    "  <li>\n",
    "Get the minimum of the functions that you categorized as non-convex.\n",
    "  </li>\n",
    "  <li>\n",
    "Since there is no way for basin-hopping to realize the end of optimization, it is necessary to specify the number of steps to run the algorithm. Examine the effect of this issue on improving the answer and find the best number of steps to implement the algorithm using the function's graph.\n",
    "    </li>\n",
    "  <li>\n",
    "Specify the location of the minimum point obtained by this algorithm on the function graph (so that you can see whether ot not your implementation has been successful).\n",
    "    </li>\n",
    "  </ul>"
   ]
  },
  {
   "cell_type": "code",
   "execution_count": 54,
   "metadata": {},
   "outputs": [
    {
     "name": "stdout",
     "output_type": "stream",
     "text": [
      "global minimum: sin(x) - x**2  :  5.0\n",
      "global minimum: sin(x)+cos(x)  :  3.9269903536013486\n",
      "global minimum: x**2 - x**4 + 2  :  5.0\n"
     ]
    },
    {
     "data": {
      "image/png": "[encoded data removed]",
      "text/plain": [
       "<Figure size 432x288 with 1 Axes>"
      ]
     },
     "metadata": {
      "needs_background": "light"
     },
     "output_type": "display_data"
    },
    {
     "data": {
      "image/png": "[encoded data removed]",
      "text/plain": [
       "<Figure size 432x288 with 1 Axes>"
      ]
     },
     "metadata": {
      "needs_background": "light"
     },
     "output_type": "display_data"
    },
    {
     "data": {
      "image/png": "[encoded data removed]",
      "text/plain": [
       "<Figure size 432x288 with 1 Axes>"
      ]
     },
     "metadata": {
      "needs_background": "light"
     },
     "output_type": "display_data"
    }
   ],
   "source": [
    "# Find the minimum of non-convex functions by the basin-hopping method. like before, you can only use scipy for this.\n",
    "from scipy.optimize import basinhopping\n",
    "from sympy import *\n",
    "import numpy as np\n",
    "import matplotlib.pyplot as plt\n",
    "\n",
    "def plot_func(func, func_name,point):\n",
    "    \n",
    "    x = np.linspace(-5, 5, 20)\n",
    "    fig = plt.figure()\n",
    "    ax = fig.add_subplot(1, 1, 1)\n",
    "#     ax.set_ylim([-5,5])\n",
    "#     ax.set_xlim([-5,5])\n",
    "    plt.scatter(point, func(point), color='blue', label=\"min point\")\n",
    "    plt.plot(x, func(x), color='red', label=func_name)\n",
    "    plt.legend(loc='upper left')\n",
    "    plt.show()\n",
    "\n",
    "\n",
    "func1 = \"sin(x) - x**2\"\n",
    "func2 = \"sin(x)+cos(x)\"\n",
    "func3 = \"x**4 + x**3 + x + 2\"\n",
    "func4 = \"x**2 - x**4 + 2\"\n",
    "\n",
    "func1a = lambda x:np.sin(x) - x**2\n",
    "func2a = lambda x:np.sin(x)+np.cos(x)\n",
    "func3a = lambda x:x**4 + x**3 + x + 2\n",
    "func4a = lambda x:x**2 - x**4 + 2\n",
    "#set a boundry!!\n",
    "def basin_hoppins(iters, function,x0):\n",
    "    x0 = [x0]\n",
    "    minimizer_kwargs = {\"method\": \"L-BFGS-B\",\"bounds\":[(-5,5)]}\n",
    "    ret = basinhopping(function, x0, stepsize=0.5, minimizer_kwargs=minimizer_kwargs,\n",
    "\n",
    "                       niter=iters)\n",
    "    return (ret.x, ret.fun)\n",
    "\n",
    "print(\"global minimum:\",func1,\" : \",basin_hoppins(1, func1a,1)[0][0])\n",
    "print(\"global minimum:\",func2,\" : \",basin_hoppins(1, func2a,1)[0][0])\n",
    "print(\"global minimum:\",func4,\" : \",basin_hoppins(1, func4a,1)[0][0])\n",
    "\n",
    "plot_func(func1a, func1,basin_hoppins(1, func1a,1)[0][0])\n",
    "plot_func(func2a, func2,basin_hoppins(1, func2a,1)[0][0])\n",
    "plot_func(func4a, func4,basin_hoppins(1, func4a,1)[0][0])"
   ]
  },
  {
   "cell_type": "code",
   "execution_count": 60,
   "metadata": {},
   "outputs": [
    {
     "name": "stdout",
     "output_type": "stream",
     "text": [
      "sin(x) - x**2 with iterations = 1\n",
      "global minimum: x = 2069.7050, f(x0) = -4283678.3322\n",
      "sin(x) - x**2 with iterations = 10\n",
      "global minimum: x = 11377.1679, f(x0) = -129439949.7296\n",
      "sin(x) - x**2 with iterations = 100\n",
      "global minimum: x = 104457.0892, f(x0) = -10911283488.2905\n",
      "sin(x) - x**2 with iterations = 150\n",
      "global minimum: x = 156174.7618, f(x0) = -24390556220.3347\n",
      "sin(x)+cos(x) with iterations = 1\n",
      "global minimum: x = 3.9270, f(x0) = -1.4142\n",
      "sin(x)+cos(x) with iterations = 10\n",
      "global minimum: x = 3.9270, f(x0) = -1.4142\n",
      "sin(x)+cos(x) with iterations = 100\n",
      "global minimum: x = 3.9270, f(x0) = -1.4142\n",
      "sin(x)+cos(x) with iterations = 150\n",
      "global minimum: x = 3.9270, f(x0) = -1.4142\n",
      "x**2 - x**4 + 2 with iterations = 1\n",
      "global minimum: x = 2069.3552, f(x0) = -18337499067737.3477\n",
      "x**2 - x**4 + 2 with iterations = 10\n",
      "global minimum: x = 11376.3135, f(x0) = -16749668169850636.0000\n",
      "x**2 - x**4 + 2 with iterations = 100\n",
      "global minimum: x = 104459.7256, f(x0) = -119068127299094757376.0000\n",
      "x**2 - x**4 + 2 with iterations = 150\n",
      "global minimum: x = 156170.3364, f(x0) = -594831807592854978560.0000\n"
     ]
    }
   ],
   "source": [
    "# Show the effect of the number of iterations on improving the answer.\n",
    "from scipy.optimize import basinhopping\n",
    "from sympy import *\n",
    "import numpy as np\n",
    "\n",
    "def functionalize(func):\n",
    "    return lambdify(Symbol('x'), func, 'numpy')\n",
    "\n",
    "#find the minimum\n",
    "func1 = \"sin(x) - x**2\"\n",
    "func2 = \"sin(x)+cos(x)\"\n",
    "func3 = \"x**4 + x**3 + x + 2\"\n",
    "func4 = \"x**2 - x**4 + 2\"\n",
    "\n",
    "func1a, func2a, func3a, func4a = map(functionalize, [func1, func2, func3, func4])\n",
    "\n",
    "def basin_hoppins(iters, function):\n",
    "    x0 = [1]\n",
    "    minimizer_kwargs = {\"method\": \"BFGS\"}\n",
    "    ret = basinhopping(function, x0, stepsize=0.5, minimizer_kwargs=minimizer_kwargs,\n",
    "\n",
    "                       niter=iters)\n",
    "    print(\"global minimum: x = %.4f, f(x0) = %.4f\" % (ret.x, ret.fun))\n",
    "\n",
    "for iters in (1, 10,100,150):\n",
    "    print(f\"{func1} with iterations = {iters}\")\n",
    "    basin_hoppins(iters, func1a)\n",
    "for iters in (1, 10,100,150):\n",
    "    print(f\"{func2} with iterations = {iters}\")\n",
    "    basin_hoppins(iters, func2a)\n",
    "for iters in (1, 10,100,150):\n",
    "    print(f\"{func4} with iterations = {iters}\")\n",
    "    basin_hoppins(iters, func4a)"
   ]
  },
  {
   "cell_type": "markdown",
   "metadata": {},
   "source": [
    "# Q7:\n",
    "\n",
    "*Author: Bahar Asadi*\n",
    "\n",
    "**110 Points**\n",
    "\n",
    "---\n",
    "\n",
    "\n",
    "<h1>Linear Regression</h1>\n",
    "<p>\n",
    "In statistics, linear regression is a linear approach for modelling the relationship between a scalar response and one or more explanatory variables (also known as dependent and independent variables). In linear regression, the relationships are modeled using linear predictor functions whose unknown model parameters are estimated from the data. Such models are called linear models.\n",
    "</p>\n",
    "\n",
    "<h2>Simple Linear Regression (40 points) </h2>\n",
    "<p>\n",
    "In statistics, simple linear regression is a linear regression model with a single explanatory variable.[1][2][3][4][5] That is, it concerns two-dimensional sample points with one independent variable and one dependent variable (conventionally, the x and y coordinates in a Cartesian coordinate system) and finds a linear function (a non-vertical straight line) that, as accurately as possible, predicts the dependent variable values as a function of the independent variable.\n",
    "The formula for this method is:\n",
    "Y = β_0 + β_1 * X + ϵ\n",
    "Where\n",
    "Y is the predicted value of the dependent variable (y) for any given value of the independent variable (x).\n",
    "β_0 is the intercept, the predicted value of y when the x is 0.\n",
    "β_1 is the regression coefficient – how much we expect y to change as x increases.\n",
    "X  is the independent variable ( the variable we expect is influencing y).\n",
    "ϵ is the error of the estimate, or how much variation there is in our estimate of the regression coefficient.\n",
    "</br>\n",
    "Linear regression finds the line of best fit through your data by searching for the regression coefficient (β_1) that minimizes the total error (ϵ) of the model according to least square error.\n",
    "</p>\n",
    "\n"
   ]
  },
  {
   "cell_type": "markdown",
   "metadata": {},
   "source": [
    "<p>\n",
    "Now, in this part we would like to do simple linear regression for a set of points. To do so, you have to find Least Square error for parameters and find the best line that fits the dataset and plot it. You have two functions (find_coefficients and plot_result). You can change them if you want and you don't have to have exactly these functions.\n",
    "</p>"
   ]
  },
  {
   "cell_type": "code",
   "execution_count": null,
   "metadata": {},
   "outputs": [],
   "source": [
    "# libraries you may need\n",
    "%pip install matplotlib"
   ]
  },
  {
   "cell_type": "code",
   "execution_count": null,
   "metadata": {},
   "outputs": [],
   "source": [
    "# libraries you may need\n",
    "import numpy as np\n",
    "import matplotlib.pyplot as plt"
   ]
  },
  {
   "cell_type": "code",
   "execution_count": null,
   "metadata": {},
   "outputs": [],
   "source": [
    "def find_coefficients(feature_vector, response_vector):\n",
    "    x_sqr = [x**2 for x in feature_vector]\n",
    "    xy = [x * y for x, y in zip(feature_vector, response_vector)]\n",
    "    n = len(feature_vector)\n",
    "    m = (n * sum(xy) - sum(feature_vector) * sum(response_vector)) / (n * sum(x_sqr) - sum(feature_vector) ** 2)\n",
    "    c = (sum(response_vector) - m * sum(feature_vector)) / n\n",
    "    return [m, c]\n",
    "\n",
    "def plot_result(feature_vector, response_vector, b_0, b_1):\n",
    "    plt.plot(feature_vector, response_vector, 'o', label='data')\n",
    "    plt.plot(feature_vector, b_1 * feature_vector + b_0, 'r', label='regression line')\n",
    "    plt.legend()\n",
    "    plt.show()"
   ]
  },
  {
   "cell_type": "code",
   "execution_count": null,
   "metadata": {},
   "outputs": [],
   "source": [
    "# data\n",
    "feature_vector = np.array([10, 12, 15, 16, 17, 18, 19, 24, 27, 30])\n",
    "response_vector = np.array([6, 2, 4, 4, 12, 5, 8, 15, 9, 9])\n",
    "  \n",
    "# finding coefficients\n",
    "betas = find_coefficients(feature_vector, response_vector)\n",
    "beta_0 = betas[1]\n",
    "beta_1 = betas[0]"
   ]
  },
  {
   "cell_type": "code",
   "execution_count": null,
   "metadata": {},
   "outputs": [],
   "source": [
    "beta_0"
   ]
  },
  {
   "cell_type": "code",
   "execution_count": null,
   "metadata": {},
   "outputs": [],
   "source": [
    "beta_1"
   ]
  },
  {
   "cell_type": "code",
   "execution_count": null,
   "metadata": {},
   "outputs": [],
   "source": [
    "plot_result(feature_vector, response_vector, beta_0, beta_1)"
   ]
  },
  {
   "cell_type": "markdown",
   "metadata": {},
   "source": [
    "<p>\n",
    "Now you know what linear regression is and how close it is to interpolation. In this part, please mention the differences between linear regression and interpolation.\n",
    "</p>\n",
    "<p>\n",
    "Your answer (5 points):\n",
    "</br>\n",
    "interpolation tries to achieve perfect match to the given data but it can't generalize, on the other hand linear regression won't fit perfectly to your data but at it will try to learn some insights from it.\n",
    "</p>"
   ]
  },
  {
   "cell_type": "markdown",
   "metadata": {},
   "source": [
    "<h1>Fourier Transform</h1>\n",
    "<p>\n",
    "A Fourier transform (FT) is a mathematical transform that decomposes functions depending on space or time into functions depending on spatial frequency or temporal frequency. An example application would be decomposing the waveform of a musical chord into terms of the intensity of its constituent pitches. The term Fourier transform refers to both the frequency domain representation and the mathematical operation that is associated with the frequency domain representation of a function of space or time.\n",
    "</p>\n",
    "\n"
   ]
  },
  {
   "cell_type": "markdown",
   "metadata": {},
   "source": [
    "<p>\n",
    "There are different classes of Fourier Transform. We want to talk about two classes: Discrete Fourier Transform and Fast Fourier Transform. For more information about Fourier Transform you can follow this link:\n",
    "\n",
    " [Fourier Tranform Lecture](https://www.le.ac.uk/users/dsgp1/LODZLECT/Lodz5.pdf)\n",
    " \n",
    "</p>"
   ]
  },
  {
   "cell_type": "markdown",
   "metadata": {},
   "source": [
    "<h2> Discrete Fourier Transform (DFT) (25 points)</h2>\n",
    "<p>\n",
    "In mathematics, the discrete Fourier transform (DFT) converts a finite sequence of equally-spaced samples of a function into a same-length sequence of equally-spaced samples of the discrete-time Fourier transform (DTFT), which is a complex-valued function of frequency. The interval at which the DTFT is sampled is the reciprocal of the duration of the input sequence.\n",
    "\n",
    "The formula for this transformation is:\n",
    "\n",
    "$X_{k} = \\sum_{n = 0}^{N - 1} x_{n} . e^{i 2\\pi k n /N} = \\sum_{n = 0}^{N - 1}x_{n}\\left [ cos(2\\pi k n/N) - i.sin(2\\pi k n/N)) \\right ]$\n",
    "\n",
    "where\n",
    "\n",
    "N = number of samples\n",
    "\n",
    "n = current sample\n",
    "\n",
    "k = current frequency, where k∈[0,N−1]\n",
    "\n",
    "xn = the sine value at sample n\n",
    "\n",
    "Xk = The DFT which includes information on both amplitude and phase\n",
    "</p>"
   ]
  },
  {
   "cell_type": "markdown",
   "metadata": {},
   "source": [
    "<p>\n",
    "Here, we have caculated sum of three trigonometric functions and plotted them as one function. Implement a function to calculate DFT for a function which is the summation of three trigonometric functions.\n",
    "</p>"
   ]
  },
  {
   "cell_type": "code",
   "execution_count": null,
   "metadata": {},
   "outputs": [],
   "source": [
    "plt.style.use('seaborn-poster')\n",
    "%matplotlib inline\n",
    "def plot_function(sampling_rate):\n",
    "# sampling rate\n",
    "    # sampling interval\n",
    "    interval = 1.0/sampling_rate\n",
    "    t = np.arange(0,1,interval)\n",
    "\n",
    "    freq = 2\n",
    "    x = 5*np.sin(2*np.pi*freq*t)\n",
    "\n",
    "    freq = 0.5\n",
    "    x += -1 * np.cos(2*np.pi*freq*t)\n",
    "\n",
    "    freq = 15  \n",
    "    x += 2.5* np.sin(2*np.pi*freq*t)\n",
    "\n",
    "    plt.figure(figsize = (8, 6))\n",
    "    plt.plot(t, x, 'g')\n",
    "    plt.ylabel('Amplitude')\n",
    "\n",
    "    plt.show()\n",
    "    return x"
   ]
  },
  {
   "cell_type": "code",
   "execution_count": null,
   "metadata": {},
   "outputs": [],
   "source": [
    "def DFT(x):\n",
    "    # 25 points\n",
    "    N = len(x)\n",
    "    X = np.zeros((N,), dtype=complex)\n",
    "    for m in range(0, N):\n",
    "        for n in range(0, N):\n",
    "            X[m] += x[n] * np.exp(-np.pi * 2j * m * n / N)\n",
    "    return X"
   ]
  },
  {
   "cell_type": "code",
   "execution_count": null,
   "metadata": {},
   "outputs": [],
   "source": [
    "def plot_DFT_or_FFT(X, sampling_rate, plot_type):\n",
    "    # calculate the frequency\n",
    "    N = len(X)\n",
    "    n = np.arange(N)\n",
    "    T = N/sampling_rate\n",
    "    freq = n/T \n",
    "\n",
    "    plt.figure(figsize = (8, 6))\n",
    "    plt.stem(freq, abs(X), 'b', \\\n",
    "         markerfmt=\" \", basefmt=\"-b\")\n",
    "    plt.xlabel('Freq (Hz)')\n",
    "    label = plot_type + 'Amplitude |X(freq)|'\n",
    "    plt.show()"
   ]
  },
  {
   "cell_type": "code",
   "execution_count": null,
   "metadata": {},
   "outputs": [],
   "source": [
    "sampling_rates = [4, 16, 64, 128, 256, 512]\n",
    "for sampling_rate in sampling_rates:\n",
    "    x = plot_function(sampling_rate)\n",
    "    X = DFT(x)\n",
    "    plot_DFT_or_FFT(X, sampling_rate, 'DFT')"
   ]
  },
  {
   "cell_type": "markdown",
   "metadata": {},
   "source": [
    "<h2> Fast Fourier Transform (45 points)</h2>\n",
    "<p>\n",
    "In order to get around the calculational expense of the standard form of the discrete Fourier transform (DFT), Cooley and Tukey (1965) figured out how to remove much of the redundancy in the equations above and came up with what is now known as the Fast Fourier Transform (FFT). The FFT is not a simple equation, but an algorithm which allows the Fourier transform of discrete data sets in $n\\log_{2}n$ steps, instead of $n^2$. Note that certain errors creep into the calculation because of discretizing the data, but they are found in all DFTs. The FFT is merely one particularly efficient method of calculating a DFT and introduces no additional errors. Also note that the data sampling rate must satisfy the Nyquist Theorem.\n",
    "</p>"
   ]
  },
  {
   "cell_type": "markdown",
   "metadata": {},
   "source": [
    "<p>\n",
    "One important thing that FFT algorithm uses is the symmetry in DFT formula. In this part use DFT formula and calculate\n",
    "\n",
    " $ X_{N+k} $ \n",
    " \n",
    " and prove symmetry in the formula. (Your answer \"can\" be code or simply a hand-written answer or a latex formula in the cell below. However, please mention how you answered (code, hand-written or latex) and upload your hand-written answers if you have any.)\n",
    "</p>"
   ]
  },
  {
   "cell_type": "markdown",
   "metadata": {},
   "source": [
    "# Here is for your answer if you need (can be code, latex formula or a picture)\n",
    "# 10 points\n",
    "latex :\n",
    "<p>  \n",
    "$X_{a} = \\sum_{n = 0}^{N - 1} x_{n} . e^{i 2\\pi a n /N} = \\sum_{n = 0}^{N - 1}x_{n}\\left [ cos(2\\pi a n/N) - i.sin(2\\pi a n/N)) \\right ] \\xrightarrow[]{\\text{a = k+N}} =$\n",
    "\n",
    "$\\sum_{n = 0}^{N - 1}x_{n}\\left [ cos(2\\pi k n/N + 2n\\pi) - i.sin(2\\pi k n/N+ 2n\\pi)) \\right] \\xrightarrow[cos(t+2n\\pi)=cos(t)]{sin(t+2n\\pi)=sin(t)} = $\n",
    "\\\\\n",
    "$\n",
    "\\sum_{n = 0}^{N - 1}x_{n}\\left [ cos(2\\pi k n/N) - i.sin(2\\pi k n/N)) \\right ]\n",
    "$"
   ]
  },
  {
   "cell_type": "markdown",
   "metadata": {},
   "source": [
    "<p>\n",
    "Main idea of FFT is to classify numbers from 0 to N into two classes: odd and even. And after this classification, it calculatess the Fourier Transform for each class. In this part, use this idea and calculate\n",
    "\n",
    "\n",
    "$X_{k}$\n",
    "\n",
    "(Your answer \"can\" be code or simply a hand-written answer or latex formula in the cell below. However, please mention how you answered (code, hand-written or latex) and upload your hand-written answer if you have any.)\n",
    "</p>"
   ]
  },
  {
   "cell_type": "markdown",
   "metadata": {},
   "source": [
    "# Here is for your answer if you need (can be code, latex formula or a picture)\n",
    "# 10 points\n",
    "latex:\n",
    "<p>\n",
    "    $X_{k} = \\sum_{ n = 0}^{N - 1} x_{2m} . e^{i 2\\pi k n /N} = \\sum_{n = 0}^{N/2 - 1} x_{2m+1} . e^{i 2\\pi k (2m+1) /N} + \\sum_{n = 0}^{N/2 - 1} x_{2m} . e^{i 2\\pi k (2m) /N}$\n",
    "</p>"
   ]
  },
  {
   "cell_type": "markdown",
   "metadata": {},
   "source": [
    "<p>\n",
    "Now, use two previous parts (symmetry and classifying) and conclude that caculations in FFT are less than in DFT. (Compare the order of the two algorithms.) (Just explanation is enough for this part.)\n",
    "</p>"
   ]
  },
  {
   "cell_type": "markdown",
   "metadata": {},
   "source": [
    "<p>\n",
    "Your answer: \n",
    "    $\\\\$\n",
    "    if we use the formula below:\n",
    "    $X_{k} = \\sum_{ n = 0}^{N - 1} x_{2m} . e^{-i 2\\pi k n /N} =\\\\ \\sum_{m = 0}^{N/2 - 1} x_{2m+1} . e^{-i 2\\pi k (2m+1) /N} +\\sum_{m = 0}^{N/2 - 1} x_{2m} . e^{-i 2\\pi k (2m) /N} \\\\=\n",
    " e^{-i 2\\pi k/N}\\sum_{m = 0}^{N/2 - 1} x_{2m+1} . e^{-i 2\\pi k m /(N/2)} +\\sum_{m = 0}^{N/2 - 1} x_{2m} . e^{-i 2\\pi k m /(N/2)}   \n",
    "$\n",
    "we could see that these are two parts that only contain half of the lower interval parts thus are calculated by using the DFT but we need the full interval, so this is where symmetry comes in place so we can continue to divide each term into half with the even and odd values until it reaches the last two numbers\n",
    "</p>"
   ]
  },
  {
   "cell_type": "markdown",
   "metadata": {},
   "source": [
    "<p>\n",
    "In this part, implement the FFT function and check this function with the previous trigonometric function we had.\n",
    "</br>\n",
    "your implemention can be recursive or non-recursive but you cannot use the built-in function \"fft\" in numpy library.\n",
    "</p>"
   ]
  },
  {
   "cell_type": "code",
   "execution_count": null,
   "metadata": {},
   "outputs": [],
   "source": [
    "def FFT(x):\n",
    "    # 25 points\n",
    "    N = len(x)\n",
    "    if N == 1:\n",
    "        return x\n",
    "    else:\n",
    "        even = FFT(x[::2])\n",
    "        odd = FFT(x[1::2])\n",
    "        even_coef = np.array([np.exp(-2j * np.pi * i / N) for i in range(N)])\n",
    "        T = np.zeros((N,), dtype=complex)\n",
    "        for i in range(N):\n",
    "            if i < N / 2:\n",
    "                T[i] = even[i] + even_coef[i] * odd[i]\n",
    "            else:\n",
    "                T[i] = even[i-int(N/2)] + even_coef[i] * odd[i-int(N/2)]\n",
    "    return T"
   ]
  },
  {
   "cell_type": "code",
   "execution_count": null,
   "metadata": {},
   "outputs": [],
   "source": [
    "sampling_rates = [4, 8, 16, 32, 64, 128, 256,512]\n",
    "for sampling_rate in sampling_rates:\n",
    "    x = plot_function(sampling_rate)\n",
    "    X = FFT(x)\n",
    "    plot_DFT_or_FFT(X, sampling_rate, 'FFT')"
   ]
  },
  {
   "cell_type": "markdown",
   "metadata": {},
   "source": [
    "<p>\n",
    "At last, compare average time of the two algorithms in practice.\n",
    "</p>"
   ]
  },
  {
   "cell_type": "code",
   "execution_count": null,
   "metadata": {},
   "outputs": [],
   "source": [
    "# 5 points\n",
    "# Your code\n",
    "import time\n",
    "\"\"\"the first programs (DFT) order is of O(n^2) because of the two nested loops it has to iterate two time over the whole array\n",
    "\n",
    "    the second programs (FFT) order is of O(nlogn) because if we see it as a computation tree we have to go logn levels deep\n",
    "    and in each level we at most n computations so the total cost is O(n*logn)\n",
    "\"\"\"\n",
    "def plot_function(sampling_rate):\n",
    "    \n",
    "    interval = 1.0/sampling_rate\n",
    "    t = np.arange(0,1,interval)\n",
    "\n",
    "    freq = 2\n",
    "    x = 5*np.sin(2*np.pi*freq*t)\n",
    "\n",
    "    freq = 0.5\n",
    "    x += -1 * np.cos(2*np.pi*freq*t)\n",
    "\n",
    "    freq = 15  \n",
    "    x += 2.5* np.sin(2*np.pi*freq*t)\n",
    "    return x\n",
    "\n",
    "t_FFT = time.time()\n",
    "sampling_rates = [4, 8, 16, 32, 64, 128, 256,512]\n",
    "for sampling_rate in sampling_rates:\n",
    "    \n",
    "    x = plot_function(sampling_rate)\n",
    "    X = FFT(x)\n",
    "print(\"time of FFT = \",time.time()-t_FFT)\n",
    "t_DFF = time.time()\n",
    "for sampling_rate in sampling_rates:\n",
    "    x = plot_function(sampling_rate)\n",
    "    X = DFT(x)   \n",
    "print(\"time of DFT = \",time.time()-t_DFF)"
   ]
  },
  {
   "cell_type": "markdown",
   "metadata": {},
   "source": [
    "# Q8:\n",
    "\n",
    "*Author: Kasra Amani*\n",
    "\n",
    "**25 Points**\n",
    "\n",
    "---\n",
    "\n",
    "\n",
    "**Theoretical:**<br>\n",
    "Up to this point, you have studied numerous different methods for solving Ordinary Differential Equations (ODEs), but completely ignored Partial Differential Equations (PDEs). These equations are widely used in Computational Fluid Dynamics (CFDs) and heat transfer simulations.\n",
    "Do your own research and explain in a few paragraphs a method which can solve a PDE using ODE solving methods that you have learned earlier.\n",
    "<p>\n",
    "    There is a method MOL(method of lines) which could generaly solve time dependant PDEs which can transform a PDE into ODE and \n",
    "    thus afterwards we can use normal ODE methods like Runge-Kutta to solve the PDE"
   ]
  },
  {
   "cell_type": "markdown",
   "metadata": {},
   "source": [
    "**Practical:**<br>\n",
    "Finite difference approximation of PDEs is a very useful method that is widely used in heat transfer and study of fluid mechanics. It is **strongly encouraged** for you to study [this pdf](https://www.lkouniv.ac.in/site/writereaddata/siteContent/202004032250572068siddharth_bhatt_engg_Numerical_Solution_of_Partial_Differential_Equations.pdf) for further info on numerically solving PDEs before proceeding with this problem.\n",
    "Solve the elliptic equation $$u_{xx}+u_{yy}=0$$ for the following square mesh with boundary values as shown in the figure down below.\n",
    "\n",
    "<img src=\"grid.jpg\" alt=\"grid\" width=\"300\"/>\n",
    "\n",
    "Notice that this question is identical to the one on page 8 of the pdf provided earlier and the main goal is for you to become familiar with the finite difference method. You must also implement your code in a way so that it would work for other boundary values as well and also you must use either Gauss-Seidal or Jacobi's method to improve the final values with decent accuracy."
   ]
  },
  {
   "cell_type": "code",
   "execution_count": 2,
   "metadata": {},
   "outputs": [
    {
     "name": "stdout",
     "output_type": "stream",
     "text": [
      "[[   0.          500.         1000.          500.            0.        ]\n",
      " [1000.          937.50075996 1000.00075996  937.50037998 1000.        ]\n",
      " [2000.         1250.00075996 1125.00075996 1250.00037998 2000.        ]\n",
      " [1000.          937.50037998 1000.00037998  937.50018999 1000.        ]\n",
      " [   0.          500.         1000.          500.            0.        ]]\n"
     ]
    }
   ],
   "source": [
    "#your code goes here\n",
    "import numpy as np\n",
    "import copy\n",
    "def five_point_method(b, tolerance):\n",
    "    #we find the initial values\n",
    "    b[3][3] = 1 / 4 * (b[3][5] + b[5][3] + b[3][1] + b[1][3])\n",
    "    b[2][4] = 1 / 4 * (b[1][5] + b[3][3] + b[3][5] + b[1][3])\n",
    "    b[4][4] = 1 / 4 * (b[3][5] + b[5][3] + b[3][3] + b[5][5])\n",
    "    b[4][2] = 1 / 4 * (b[3][3] + b[5][1] + b[3][1] + b[5][3])\n",
    "    b[2][2] = 1 / 4 * (b[1][3] + b[3][1] + b[3][3] + b[1][1])\n",
    "    b[2][3] = 1 / 4 * (b[1][3] + b[3][3] + b[2][4] + b[2][2])\n",
    "    b[3][4] = 1 / 4 * (b[2][4] + b[4][4] + b[3][5] + b[3][3])\n",
    "    b[4][3] = 1 / 4 * (b[3][3] + b[5][3] + b[4][4] + b[4][2])\n",
    "    b[3][2] = 1 / 4 * (b[2][2] + b[4][2] + b[3][3] + b[3][1])\n",
    "    u_new = copy.deepcopy(b)\n",
    "    n = 0\n",
    "    #now we use gauss-sidel to improve our answer:\n",
    "    while True:\n",
    "        n += 1\n",
    "        for j in range(4, 1, -1):\n",
    "            for i in range(2, 5):\n",
    "                u_new[i][j] = 1 / 4 * (u_new[i - 1][j] + u_new[i + 1][j] + u_new[i][j - 1] + u_new[i][j + 1])\n",
    "        return_value = True\n",
    "        for j in range(4, 1, -1):\n",
    "            for i in range(2, 5):\n",
    "                if abs(u_new[i][j] - b[i][j]) > tolerance:\n",
    "                    return_value = False\n",
    "        if return_value:\n",
    "            return np.flipud((np.array(u_new)[1:, 1:]).T)\n",
    "        b = copy.deepcopy(u_new)\n",
    "\n",
    "\n",
    "b = [[0.0 for i in range(0, 6)] for j in range(0, 6)]\n",
    "#if you want to find the notebooks answers, uncomment the bellow comments and comment the input \n",
    "\n",
    "# b[1][5] = b[1][1] = b[5][5] = b[5][1] = 0\n",
    "# b[1][4] = b[1][2] = b[5][4] = b[5][2] = 1000\n",
    "# b[1][3] = b[5][3] = 2000\n",
    "# b[3][1] = b[3][5] = 1000\n",
    "# b[2][1] = b[4][1] = b[2][5] = b[4][5] = 500\n",
    "for i in range(1, 6):\n",
    "    for j in range(1, 6):\n",
    "        if i == 1 or (1 < i < 5 and (j == 1 or j == 5)) \\\n",
    "                or i == 5:\n",
    "            b[i][j] = float(input(f\"enter b[{i}][{j}] : \"))\n",
    "print(five_point_method(b, 0.001))"
   ]
  },
  {
   "cell_type": "code",
   "execution_count": null,
   "metadata": {},
   "outputs": [],
   "source": []
  }
 ],
 "metadata": {
  "colab": {
   "collapsed_sections": [],
   "name": "Numerical Methods Project Fall-2021.ipynb",
   "provenance": []
  },
  "kernelspec": {
   "display_name": "Python 3 (ipykernel)",
   "language": "python",
   "name": "python3"
  },
  "language_info": {
   "codemirror_mode": {
    "name": "ipython",
    "version": 3
   },
   "file_extension": ".py",
   "mimetype": "text/x-python",
   "name": "python",
   "nbconvert_exporter": "python",
   "pygments_lexer": "ipython3",
   "version": "3.9.12"
  },
  "vscode": {
   "interpreter": {
    "hash": "570e6187be653a659d6f952c573b248103619920d93763c2755e788ce8abaa28"
   }
  }
 },
 "nbformat": 4,
 "nbformat_minor": 1
}
